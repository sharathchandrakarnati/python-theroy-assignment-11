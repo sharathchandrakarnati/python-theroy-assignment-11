{
 "cells": [
  {
   "cell_type": "markdown",
   "id": "02fe5d57",
   "metadata": {},
   "source": [
    "### 1. Create an assert statement that throws an AssertionError if the variable spam is a negative\n",
    "### integer."
   ]
  },
  {
   "cell_type": "code",
   "execution_count": 1,
   "id": "34173144",
   "metadata": {},
   "outputs": [
    {
     "ename": "AssertionError",
     "evalue": "variable spam should not be -ve integer ",
     "output_type": "error",
     "traceback": [
      "\u001b[1;31m---------------------------------------------------------------------------\u001b[0m",
      "\u001b[1;31mAssertionError\u001b[0m                            Traceback (most recent call last)",
      "\u001b[1;32m~\\AppData\\Local\\Temp\\ipykernel_5316\\2563826724.py\u001b[0m in \u001b[0;36m<module>\u001b[1;34m\u001b[0m\n\u001b[0;32m      1\u001b[0m \u001b[0mspam\u001b[0m \u001b[1;33m=\u001b[0m \u001b[1;33m-\u001b[0m\u001b[1;36m22\u001b[0m\u001b[1;33m\u001b[0m\u001b[1;33m\u001b[0m\u001b[0m\n\u001b[1;32m----> 2\u001b[1;33m \u001b[1;32massert\u001b[0m \u001b[0mspam\u001b[0m \u001b[1;33m>=\u001b[0m\u001b[1;36m0\u001b[0m \u001b[1;33m,\u001b[0m\u001b[1;34m'variable spam should not be -ve integer '\u001b[0m\u001b[1;33m\u001b[0m\u001b[1;33m\u001b[0m\u001b[0m\n\u001b[0m",
      "\u001b[1;31mAssertionError\u001b[0m: variable spam should not be -ve integer "
     ]
    }
   ],
   "source": [
    "spam = -22\n",
    "assert spam >=0 ,'variable spam should not be -ve integer '"
   ]
  },
  {
   "cell_type": "markdown",
   "id": "4affe8d0",
   "metadata": {},
   "source": [
    "### 2. Write an assert statement that triggers an AssertionError if the variables eggs and bacon contain\n",
    "strings that are the same as each other, even if their cases are different (that is, &#39;hello&#39; and &#39;hello&#39; are\n",
    "considered the same, and &#39;goodbye&#39; and &#39;GOODbye&#39; are also considered the same)."
   ]
  },
  {
   "cell_type": "code",
   "execution_count": 2,
   "id": "7cce8eb6",
   "metadata": {},
   "outputs": [],
   "source": [
    "def raise_(first, second):\n",
    "    first = first.upper()\n",
    "    second = second.upper()\n",
    "    assert not (first == second) ,\"first/second not be same which are same now\""
   ]
  },
  {
   "cell_type": "code",
   "execution_count": 3,
   "id": "9e41db04",
   "metadata": {},
   "outputs": [
    {
     "ename": "AssertionError",
     "evalue": "first/second not be same which are same now",
     "output_type": "error",
     "traceback": [
      "\u001b[1;31m---------------------------------------------------------------------------\u001b[0m",
      "\u001b[1;31mAssertionError\u001b[0m                            Traceback (most recent call last)",
      "\u001b[1;32m~\\AppData\\Local\\Temp\\ipykernel_5316\\1253407326.py\u001b[0m in \u001b[0;36m<module>\u001b[1;34m\u001b[0m\n\u001b[1;32m----> 1\u001b[1;33m \u001b[0mraise_\u001b[0m\u001b[1;33m(\u001b[0m\u001b[1;34m'hello'\u001b[0m\u001b[1;33m,\u001b[0m\u001b[1;34m'Hello'\u001b[0m\u001b[1;33m)\u001b[0m\u001b[1;33m\u001b[0m\u001b[1;33m\u001b[0m\u001b[0m\n\u001b[0m",
      "\u001b[1;32m~\\AppData\\Local\\Temp\\ipykernel_5316\\4070498050.py\u001b[0m in \u001b[0;36mraise_\u001b[1;34m(first, second)\u001b[0m\n\u001b[0;32m      2\u001b[0m     \u001b[0mfirst\u001b[0m \u001b[1;33m=\u001b[0m \u001b[0mfirst\u001b[0m\u001b[1;33m.\u001b[0m\u001b[0mupper\u001b[0m\u001b[1;33m(\u001b[0m\u001b[1;33m)\u001b[0m\u001b[1;33m\u001b[0m\u001b[1;33m\u001b[0m\u001b[0m\n\u001b[0;32m      3\u001b[0m     \u001b[0msecond\u001b[0m \u001b[1;33m=\u001b[0m \u001b[0msecond\u001b[0m\u001b[1;33m.\u001b[0m\u001b[0mupper\u001b[0m\u001b[1;33m(\u001b[0m\u001b[1;33m)\u001b[0m\u001b[1;33m\u001b[0m\u001b[1;33m\u001b[0m\u001b[0m\n\u001b[1;32m----> 4\u001b[1;33m     \u001b[1;32massert\u001b[0m \u001b[1;32mnot\u001b[0m \u001b[1;33m(\u001b[0m\u001b[0mfirst\u001b[0m \u001b[1;33m==\u001b[0m \u001b[0msecond\u001b[0m\u001b[1;33m)\u001b[0m \u001b[1;33m,\u001b[0m\u001b[1;34m\"first/second not be same which are same now\"\u001b[0m\u001b[1;33m\u001b[0m\u001b[1;33m\u001b[0m\u001b[0m\n\u001b[0m",
      "\u001b[1;31mAssertionError\u001b[0m: first/second not be same which are same now"
     ]
    }
   ],
   "source": [
    "raise_('hello','Hello')"
   ]
  },
  {
   "cell_type": "code",
   "execution_count": 4,
   "id": "30245a1c",
   "metadata": {},
   "outputs": [
    {
     "ename": "AssertionError",
     "evalue": "first/second not be same which are same now",
     "output_type": "error",
     "traceback": [
      "\u001b[1;31m---------------------------------------------------------------------------\u001b[0m",
      "\u001b[1;31mAssertionError\u001b[0m                            Traceback (most recent call last)",
      "\u001b[1;32m~\\AppData\\Local\\Temp\\ipykernel_5316\\3548519698.py\u001b[0m in \u001b[0;36m<module>\u001b[1;34m\u001b[0m\n\u001b[1;32m----> 1\u001b[1;33m \u001b[0mraise_\u001b[0m\u001b[1;33m(\u001b[0m\u001b[1;34m'goodbye'\u001b[0m\u001b[1;33m,\u001b[0m\u001b[1;34m'GOODbye'\u001b[0m\u001b[1;33m)\u001b[0m\u001b[1;33m\u001b[0m\u001b[1;33m\u001b[0m\u001b[0m\n\u001b[0m",
      "\u001b[1;32m~\\AppData\\Local\\Temp\\ipykernel_5316\\4070498050.py\u001b[0m in \u001b[0;36mraise_\u001b[1;34m(first, second)\u001b[0m\n\u001b[0;32m      2\u001b[0m     \u001b[0mfirst\u001b[0m \u001b[1;33m=\u001b[0m \u001b[0mfirst\u001b[0m\u001b[1;33m.\u001b[0m\u001b[0mupper\u001b[0m\u001b[1;33m(\u001b[0m\u001b[1;33m)\u001b[0m\u001b[1;33m\u001b[0m\u001b[1;33m\u001b[0m\u001b[0m\n\u001b[0;32m      3\u001b[0m     \u001b[0msecond\u001b[0m \u001b[1;33m=\u001b[0m \u001b[0msecond\u001b[0m\u001b[1;33m.\u001b[0m\u001b[0mupper\u001b[0m\u001b[1;33m(\u001b[0m\u001b[1;33m)\u001b[0m\u001b[1;33m\u001b[0m\u001b[1;33m\u001b[0m\u001b[0m\n\u001b[1;32m----> 4\u001b[1;33m     \u001b[1;32massert\u001b[0m \u001b[1;32mnot\u001b[0m \u001b[1;33m(\u001b[0m\u001b[0mfirst\u001b[0m \u001b[1;33m==\u001b[0m \u001b[0msecond\u001b[0m\u001b[1;33m)\u001b[0m \u001b[1;33m,\u001b[0m\u001b[1;34m\"first/second not be same which are same now\"\u001b[0m\u001b[1;33m\u001b[0m\u001b[1;33m\u001b[0m\u001b[0m\n\u001b[0m",
      "\u001b[1;31mAssertionError\u001b[0m: first/second not be same which are same now"
     ]
    }
   ],
   "source": [
    "raise_('goodbye','GOODbye')"
   ]
  },
  {
   "cell_type": "markdown",
   "id": "d65e2128",
   "metadata": {},
   "source": [
    "### 3. Create an assert statement that throws an AssertionError every time.\n"
   ]
  },
  {
   "cell_type": "code",
   "execution_count": 5,
   "id": "5f3349e7",
   "metadata": {},
   "outputs": [
    {
     "ename": "AssertionError",
     "evalue": "Always Shows Assertion Error",
     "output_type": "error",
     "traceback": [
      "\u001b[1;31m---------------------------------------------------------------------------\u001b[0m",
      "\u001b[1;31mAssertionError\u001b[0m                            Traceback (most recent call last)",
      "\u001b[1;32m~\\AppData\\Local\\Temp\\ipykernel_5316\\1503883157.py\u001b[0m in \u001b[0;36m<module>\u001b[1;34m\u001b[0m\n\u001b[0;32m      1\u001b[0m \u001b[1;32mdef\u001b[0m \u001b[0massert_always\u001b[0m\u001b[1;33m(\u001b[0m\u001b[1;33m)\u001b[0m\u001b[1;33m:\u001b[0m\u001b[1;33m\u001b[0m\u001b[1;33m\u001b[0m\u001b[0m\n\u001b[0;32m      2\u001b[0m     \u001b[1;32massert\u001b[0m \u001b[1;32mFalse\u001b[0m\u001b[1;33m,\u001b[0m \u001b[1;34m'Always Shows Assertion Error'\u001b[0m\u001b[1;33m\u001b[0m\u001b[1;33m\u001b[0m\u001b[0m\n\u001b[1;32m----> 3\u001b[1;33m \u001b[0massert_always\u001b[0m\u001b[1;33m(\u001b[0m\u001b[1;33m)\u001b[0m\u001b[1;33m\u001b[0m\u001b[1;33m\u001b[0m\u001b[0m\n\u001b[0m",
      "\u001b[1;32m~\\AppData\\Local\\Temp\\ipykernel_5316\\1503883157.py\u001b[0m in \u001b[0;36massert_always\u001b[1;34m()\u001b[0m\n\u001b[0;32m      1\u001b[0m \u001b[1;32mdef\u001b[0m \u001b[0massert_always\u001b[0m\u001b[1;33m(\u001b[0m\u001b[1;33m)\u001b[0m\u001b[1;33m:\u001b[0m\u001b[1;33m\u001b[0m\u001b[1;33m\u001b[0m\u001b[0m\n\u001b[1;32m----> 2\u001b[1;33m     \u001b[1;32massert\u001b[0m \u001b[1;32mFalse\u001b[0m\u001b[1;33m,\u001b[0m \u001b[1;34m'Always Shows Assertion Error'\u001b[0m\u001b[1;33m\u001b[0m\u001b[1;33m\u001b[0m\u001b[0m\n\u001b[0m\u001b[0;32m      3\u001b[0m \u001b[0massert_always\u001b[0m\u001b[1;33m(\u001b[0m\u001b[1;33m)\u001b[0m\u001b[1;33m\u001b[0m\u001b[1;33m\u001b[0m\u001b[0m\n",
      "\u001b[1;31mAssertionError\u001b[0m: Always Shows Assertion Error"
     ]
    }
   ],
   "source": [
    "def assert_always():\n",
    "    assert False, 'Always Shows Assertion Error'\n",
    "assert_always()"
   ]
  },
  {
   "cell_type": "markdown",
   "id": "599b325e",
   "metadata": {},
   "source": [
    "### 4. What are the two lines that must be present in your software in order to call logging.debug()?"
   ]
  },
  {
   "cell_type": "code",
   "execution_count": 6,
   "id": "7b369e6d",
   "metadata": {},
   "outputs": [],
   "source": [
    "import logging\n",
    "logging.basicConfig(filename = 'application_log.txt',level=logging.DEBUG, format=' %(asctime)s - %(levelname)s - %(message)s')"
   ]
  },
  {
   "cell_type": "markdown",
   "id": "a5ef6621",
   "metadata": {},
   "source": [
    "### 5. What are the two lines that your program must have in order to have logging.debug() send a logging message to a file named programLog.txt?"
   ]
  },
  {
   "cell_type": "code",
   "execution_count": 7,
   "id": "81e375e1",
   "metadata": {},
   "outputs": [],
   "source": [
    "import logging\n",
    "logging.basicConfig(filename = 'application_log.txt',level=logging.DEBUG, format=' %(asctime)s - %(levelname)s - %(message)s')\n",
    "logging.debug(\"data inserted sucessfully\")\n",
    "logging.debug(\"connection closed sucessfully\")\n"
   ]
  },
  {
   "cell_type": "code",
   "execution_count": 8,
   "id": "7afc619d",
   "metadata": {},
   "outputs": [
    {
     "name": "stdout",
     "output_type": "stream",
     "text": [
      " 2023-05-10 11:21:27,991 - DEBUG - diff parser start\n",
      "\n",
      " 2023-05-10 11:21:27,992 - DEBUG - line_lengths old: 2; new: 2\n",
      "\n",
      " 2023-05-10 11:21:27,992 - DEBUG - -> code[equal] old[1:1] new[1:1]\n",
      "\n",
      " 2023-05-10 11:21:27,993 - DEBUG - copy old[1:1] new[1:1]\n",
      "\n",
      " 2023-05-10 11:21:27,993 - DEBUG - -> code[replace] old[2:2] new[2:2]\n",
      "\n",
      " 2023-05-10 11:21:27,993 - DEBUG - parse_part from 2 to 2 (to 1 in part parser)\n",
      "\n",
      " 2023-05-10 11:21:27,993 - DEBUG - diff parser end\n",
      "\n",
      " 2023-05-10 11:21:32,039 - DEBUG - diff parser start\n",
      "\n",
      " 2023-05-10 11:21:32,039 - DEBUG - line_lengths old: 2; new: 2\n",
      "\n",
      " 2023-05-10 11:21:32,039 - DEBUG - -> code[equal] old[1:1] new[1:1]\n",
      "\n",
      " 2023-05-10 11:21:32,040 - DEBUG - copy old[1:1] new[1:1]\n",
      "\n",
      " 2023-05-10 11:21:32,040 - DEBUG - -> code[replace] old[2:2] new[2:2]\n",
      "\n",
      " 2023-05-10 11:21:32,042 - DEBUG - parse_part from 2 to 2 (to 1 in part parser)\n",
      "\n",
      " 2023-05-10 11:21:32,042 - DEBUG - diff parser end\n",
      "\n",
      " 2023-05-10 11:22:10,992 - DEBUG - diff parser start\n",
      "\n",
      " 2023-05-10 11:22:10,992 - DEBUG - line_lengths old: 2; new: 3\n",
      "\n",
      " 2023-05-10 11:22:10,993 - DEBUG - -> code[equal] old[1:1] new[1:1]\n",
      "\n",
      " 2023-05-10 11:22:10,993 - DEBUG - copy old[1:1] new[1:1]\n",
      "\n",
      " 2023-05-10 11:22:10,993 - DEBUG - -> code[replace] old[2:2] new[2:3]\n",
      "\n",
      " 2023-05-10 11:22:10,994 - DEBUG - parse_part from 2 to 3 (to 2 in part parser)\n",
      "\n",
      " 2023-05-10 11:22:10,994 - DEBUG - diff parser end\n",
      "\n",
      " 2023-05-10 11:22:14,277 - DEBUG - diff parser start\n",
      "\n",
      " 2023-05-10 11:22:14,278 - DEBUG - line_lengths old: 3; new: 3\n",
      "\n",
      " 2023-05-10 11:22:14,278 - DEBUG - -> code[equal] old[1:2] new[1:2]\n",
      "\n",
      " 2023-05-10 11:22:14,278 - DEBUG - copy old[1:2] new[1:2]\n",
      "\n",
      " 2023-05-10 11:22:14,278 - DEBUG - -> code[replace] old[3:3] new[3:3]\n",
      "\n",
      " 2023-05-10 11:22:14,278 - DEBUG - parse_part from 3 to 3 (to 2 in part parser)\n",
      "\n",
      " 2023-05-10 11:22:14,279 - DEBUG - diff parser end\n",
      "\n",
      " 2023-05-10 11:22:46,443 - DEBUG - diff parser start\n",
      "\n",
      " 2023-05-10 11:22:46,444 - DEBUG - line_lengths old: 3; new: 4\n",
      "\n",
      " 2023-05-10 11:22:46,444 - DEBUG - -> code[equal] old[1:2] new[1:2]\n",
      "\n",
      " 2023-05-10 11:22:46,444 - DEBUG - copy old[1:2] new[1:2]\n",
      "\n",
      " 2023-05-10 11:22:46,444 - DEBUG - -> code[replace] old[3:3] new[3:4]\n",
      "\n",
      " 2023-05-10 11:22:46,445 - DEBUG - parse_part from 3 to 4 (to 3 in part parser)\n",
      "\n",
      " 2023-05-10 11:22:46,445 - DEBUG - diff parser end\n",
      "\n",
      " 2023-05-10 11:22:51,048 - DEBUG - diff parser start\n",
      "\n",
      " 2023-05-10 11:22:51,049 - DEBUG - line_lengths old: 4; new: 4\n",
      "\n",
      " 2023-05-10 11:22:51,049 - DEBUG - -> code[equal] old[1:3] new[1:3]\n",
      "\n",
      " 2023-05-10 11:22:51,049 - DEBUG - copy old[1:3] new[1:3]\n",
      "\n",
      " 2023-05-10 11:22:51,049 - DEBUG - -> code[replace] old[4:4] new[4:4]\n",
      "\n",
      " 2023-05-10 11:22:51,050 - DEBUG - parse_part from 4 to 4 (to 3 in part parser)\n",
      "\n",
      " 2023-05-10 11:22:51,050 - DEBUG - diff parser end\n",
      "\n",
      " 2023-05-10 11:23:11,434 - DEBUG - data inserted sucessfully\n",
      "\n",
      " 2023-05-10 11:23:11,434 - DEBUG - connection closed sucessfully\n",
      "\n"
     ]
    }
   ],
   "source": [
    "file = open(\"./application_log.txt\",\"r\")\n",
    "for record in file.readlines():\n",
    "    print(record)"
   ]
  },
  {
   "cell_type": "markdown",
   "id": "56ad4358",
   "metadata": {},
   "source": [
    "## what are the five levels of logging ?"
   ]
  },
  {
   "cell_type": "markdown",
   "id": "169ba40c",
   "metadata": {},
   "source": [
    "<b>Ans:</b> The FIVE LEVELS of logging by python's logging module are <ul><b> Critical(50)</b> </ul>  <ul><b>Error(40)</b></ul> <ul> <b> Warning(30) </b > </ul>\n",
    "<ul> <b>info(20)</b> </ul> \n",
    "<ul> <b>Debug(10)</b> </ul>\n",
    "<ul> <b>noteset(0)</b> </ul>"
   ]
  },
  {
   "cell_type": "markdown",
   "id": "5694cea0",
   "metadata": {},
   "source": [
    "## 7. What line of code would you add to your software to disable all logging messages?\n",
    "<b> ANS</b> logging.disable = True"
   ]
  },
  {
   "cell_type": "markdown",
   "id": "5165e23e",
   "metadata": {},
   "source": [
    "### 8.Why is using logging messages better than using print() to display the same message?"
   ]
  },
  {
   "cell_type": "markdown",
   "id": "de37e605",
   "metadata": {},
   "source": [
    "<b>Answer</b> : Post devlopment of your code, you can disable logging messages without removing the logging function, whereas you need to manually remove print() statements, which is tedious activity. and also print is used when you want to display any particular message or help whereas logging is used to record all events like error, info, debug messages, timestamps."
   ]
  },
  {
   "cell_type": "markdown",
   "id": "7bb93dbc",
   "metadata": {},
   "source": [
    "### 9.What are the differences between the Step Over, Step In, and Step Out buttons in the debugger?"
   ]
  },
  {
   "cell_type": "markdown",
   "id": "4baa188a",
   "metadata": {},
   "source": [
    "<b>Ans</b> The Difference Step over,Step in , step out business in bebugger are:\n",
    "<ul>1.<b>Step in </b>- Step in button will cause the debugger</ul>\n",
    "<ul>2.<b>step over</b>-  bottom  will execute the next line of code , similar to the step in button . however, if the next line of code is  FUNCTION call,the step over button will \"step over\" the code in the function . the function's code will be executed at full speed , and the debugger will pause as sonn as the function call returns</ul>\n",
    "<ul>3<b>step out</b>- Step out button will cause the  debugger  to execute lines of code at full speed until it returns from current function</ul>\n"
   ]
  },
  {
   "cell_type": "markdown",
   "id": "491301e2",
   "metadata": {},
   "source": [
    "### 10. After you click Continue, when will the debugger stop ?"
   ]
  },
  {
   "cell_type": "markdown",
   "id": "309ee45e",
   "metadata": {},
   "source": [
    "<b>ANS</b> This will cause the program continue running normally , without pausing for dubbuing until it terminates or reaches a breakpoint"
   ]
  },
  {
   "cell_type": "markdown",
   "id": "24b662d0",
   "metadata": {},
   "source": [
    "## 11. What is the concept of a breakpoint?"
   ]
  },
  {
   "cell_type": "markdown",
   "id": "887b5ff5",
   "metadata": {},
   "source": [
    "<b>ANS</b> Breakpoint is a setting on a lineof code that cause the dubbing to pause when the program execution reaches the line"
   ]
  },
  {
   "cell_type": "code",
   "execution_count": null,
   "id": "86f7e764",
   "metadata": {},
   "outputs": [],
   "source": []
  },
  {
   "cell_type": "code",
   "execution_count": null,
   "id": "1348cfbc",
   "metadata": {},
   "outputs": [],
   "source": []
  },
  {
   "cell_type": "code",
   "execution_count": null,
   "id": "c6fe132c",
   "metadata": {},
   "outputs": [],
   "source": []
  },
  {
   "cell_type": "code",
   "execution_count": null,
   "id": "b79f037e",
   "metadata": {},
   "outputs": [],
   "source": []
  },
  {
   "cell_type": "code",
   "execution_count": null,
   "id": "c89d66d3",
   "metadata": {},
   "outputs": [],
   "source": []
  }
 ],
 "metadata": {
  "kernelspec": {
   "display_name": "Python 3 (ipykernel)",
   "language": "python",
   "name": "python3"
  },
  "language_info": {
   "codemirror_mode": {
    "name": "ipython",
    "version": 3
   },
   "file_extension": ".py",
   "mimetype": "text/x-python",
   "name": "python",
   "nbconvert_exporter": "python",
   "pygments_lexer": "ipython3",
   "version": "3.9.13"
  }
 },
 "nbformat": 4,
 "nbformat_minor": 5
}
